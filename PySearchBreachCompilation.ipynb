{
 "cells": [
  {
   "cell_type": "code",
   "execution_count": 1,
   "metadata": {},
   "outputs": [],
   "source": [
    "import os\n",
    "rootpath = \".\\\\data\\\\\""
   ]
  },
  {
   "cell_type": "code",
   "execution_count": 2,
   "metadata": {},
   "outputs": [],
   "source": [
    "import time\n",
    "search = \".edu\"\n",
    "from tld import get_tld\n",
    "#count = 0\n",
    "def getPaths(rootdir):\n",
    "    paths = []\n",
    "    for file in os.listdir(rootdir):\n",
    "        d = os.path.join(rootdir, file)\n",
    "        if os.path.isdir(d):\n",
    "            paths.append(d)\n",
    "            paths = paths + getPaths(d)\n",
    "            \n",
    "    return(paths)\n",
    "\n",
    "def searchFile(filePathandName, search):\n",
    "    f = open(search+\"-userpass.csv\", \"a\")\n",
    "    try:\n",
    "        with open(filePathandName, encoding=\"utf8\") as f1:\n",
    "            for line in f1: \n",
    "                if search in line:\n",
    "                    arrayLine = line.split(\":\")\n",
    "                    email = arrayLine[0]\n",
    "\n",
    "                    #if search in email:\n",
    "                    try:\n",
    "                        password = arrayLine[1]\n",
    "                    except:\n",
    "                        password = ''\n",
    "                    username = \"\"\n",
    "                    try:\n",
    "                        domain = email.split(\"@\")[1]\n",
    "                        tld = get_tld(domain, fix_protocol=True)\n",
    "                        username = email.split(\"@\")[0]\n",
    "                    except:\n",
    "                        domain=\"\"\n",
    "                        tld = \"\"\n",
    "                        username = \"\" \n",
    "\n",
    "                    #print(\"'\" + email + \"', '\" + password.rstrip() + \"', '\" + domain + \"', '\" + username + \"', '\" + tld + \"'\")\n",
    "                    f.write(\"'\" + email + \"', '\" + password.rstrip() + \"', '\" + domain + \"', '\" + username + \"', '\" + tld + \"'\" + \"\\n\")\n",
    "    \n",
    "\n",
    "    except:\n",
    "        one = 1        \n",
    "    f.close()    \n",
    "            \n",
    "def files(path):\n",
    "    for file in os.listdir(path):\n",
    "        if os.path.isfile(os.path.join(path, file)):\n",
    "            yield file\n",
    "            \n",
    "allpaths = getPaths(rootpath)\n",
    "for path in allpaths:\n",
    "    for file in files(path):\n",
    "        searchFile( path + \"\\\\\" + file, search)\n",
    "    \n",
    "\n",
    "\n",
    "\n",
    "\n",
    "#print(count)       \n",
    "\n",
    "  "
   ]
  },
  {
   "cell_type": "code",
   "execution_count": null,
   "metadata": {},
   "outputs": [],
   "source": []
  }
 ],
 "metadata": {
  "kernelspec": {
   "display_name": "Python 3",
   "language": "python",
   "name": "python3"
  },
  "language_info": {
   "codemirror_mode": {
    "name": "ipython",
    "version": 3
   },
   "file_extension": ".py",
   "mimetype": "text/x-python",
   "name": "python",
   "nbconvert_exporter": "python",
   "pygments_lexer": "ipython3",
   "version": "3.7.6"
  }
 },
 "nbformat": 4,
 "nbformat_minor": 4
}
